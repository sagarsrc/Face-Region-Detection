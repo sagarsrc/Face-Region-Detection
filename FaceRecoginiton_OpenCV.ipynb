{
 "cells": [
  {
   "cell_type": "code",
   "execution_count": 1,
   "metadata": {
    "collapsed": true
   },
   "outputs": [],
   "source": [
    "# importing opencv2 library\n",
    "import cv2"
   ]
  },
  {
   "cell_type": "code",
   "execution_count": 4,
   "metadata": {
    "collapsed": true
   },
   "outputs": [],
   "source": [
    "# loading cascades\n",
    "# cascades are the xml files which serve as filters\n",
    "# for reconizing particular element in the image\n",
    "# here we are loading harr cascades\n",
    "\n",
    "face_cascade = cv2.CascadeClassifier('./haarcascade_frontalface_alt.xml')\n",
    "eye_cascade = cv2.CascadeClassifier('./haarcascade_eye.xml')"
   ]
  },
  {
   "cell_type": "code",
   "execution_count": 17,
   "metadata": {
    "collapsed": true
   },
   "outputs": [],
   "source": [
    "# defining a function to detect elements\n",
    "# cascades work only on grayscale images\n",
    "\n",
    "def detect(gray_scale_img, original_img):\n",
    "    \n",
    "    # scale decides by how much the size of filter/kernel should be increased\n",
    "    # minNeighbors specify how many faces should be neighbours to be accepted as face\n",
    "    # SomeCascadeClassifier.detectMultiScale returns (x,y,w,h) tuple \n",
    "    # x,y are co-ordinates of upper left corner\n",
    "    # w,h are height and width of rectangles\n",
    "    \n",
    "    faces = face_cascade.detectMultiScale(gray_scale_img, scaleFactor=1.3,minNeighbors=5 )\n",
    "    \n",
    "    for (x,y,w,h) in faces:\n",
    "        # rectangle(img, pt1, pt2, color[, thickness[, lineType[, shift]]]\n",
    "        # detect on gray print rectangle on color\n",
    "        cv2.rectangle(original_img, (x,y),(x+w,y+h), (255,0,0), 2)\n",
    "        \n",
    "        # after detecting the face we need to search in the face region\n",
    "        # for eyes to save computation time\n",
    "        # hence defining a region of interest roi\n",
    "        roi_gray = gray_scale_img[x:x+w,y:y+h]\n",
    "        \n",
    "        # for displaying rectangle over actual color image and not grayscale img\n",
    "        roi_color = original_img[x:x+w,y:y+h]\n",
    "        \n",
    "        # decting eyes in region of interest\n",
    "        eyes = eye_cascade.detectMultiScale(roi_gray, scaleFactor=1.1, minNeighbors=3)\n",
    "        \n",
    "        # drawing rectangles on the frame for eyes\n",
    "        for (ex,ey,ew,eh) in eyes:\n",
    "            # we need to draw rectangles on roi_gray\n",
    "            # detect on gray print rectangle on color\n",
    "            cv2.rectangle(roi_color, (ex,ey),(ex+ew,ey+eh), (0,255,0), 2)\n",
    "    \n",
    "    # now original image has rectangles drawn on it\n",
    "    return original_img"
   ]
  },
  {
   "cell_type": "code",
   "execution_count": 21,
   "metadata": {},
   "outputs": [
    {
     "ename": "error",
     "evalue": "/home/travis/miniconda/conda-bld/conda_1485299292920/work/opencv-3.2.0/modules/highgui/src/window.cpp:304: error: (-215) size.width>0 && size.height>0 in function imshow\n",
     "output_type": "error",
     "traceback": [
      "\u001b[0;31m---------------------------------------------------------------------------\u001b[0m",
      "\u001b[0;31merror\u001b[0m                                     Traceback (most recent call last)",
      "\u001b[0;32m<ipython-input-21-d0a716af61b8>\u001b[0m in \u001b[0;36m<module>\u001b[0;34m()\u001b[0m\n\u001b[1;32m     14\u001b[0m     \u001b[0mcanvas\u001b[0m \u001b[0;34m=\u001b[0m \u001b[0mdetect\u001b[0m\u001b[0;34m(\u001b[0m\u001b[0mim_gray\u001b[0m\u001b[0;34m,\u001b[0m\u001b[0mframe\u001b[0m\u001b[0;34m)\u001b[0m\u001b[0;34m\u001b[0m\u001b[0m\n\u001b[1;32m     15\u001b[0m \u001b[0;34m\u001b[0m\u001b[0m\n\u001b[0;32m---> 16\u001b[0;31m     \u001b[0mcv2\u001b[0m\u001b[0;34m.\u001b[0m\u001b[0mimshow\u001b[0m\u001b[0;34m(\u001b[0m\u001b[0;34m'Video'\u001b[0m\u001b[0;34m,\u001b[0m\u001b[0mcanvas\u001b[0m\u001b[0;34m)\u001b[0m\u001b[0;34m\u001b[0m\u001b[0m\n\u001b[0m\u001b[1;32m     17\u001b[0m \u001b[0;34m\u001b[0m\u001b[0m\n\u001b[1;32m     18\u001b[0m     \u001b[0;32mif\u001b[0m \u001b[0mcv2\u001b[0m\u001b[0;34m.\u001b[0m\u001b[0mwaitKey\u001b[0m\u001b[0;34m(\u001b[0m\u001b[0;36m1\u001b[0m\u001b[0;34m)\u001b[0m \u001b[0;34m&\u001b[0m \u001b[0;36m0xFF\u001b[0m \u001b[0;34m==\u001b[0m \u001b[0mord\u001b[0m\u001b[0;34m(\u001b[0m\u001b[0;34m'q'\u001b[0m\u001b[0;34m)\u001b[0m\u001b[0;34m:\u001b[0m\u001b[0;34m\u001b[0m\u001b[0m\n",
      "\u001b[0;31merror\u001b[0m: /home/travis/miniconda/conda-bld/conda_1485299292920/work/opencv-3.2.0/modules/highgui/src/window.cpp:304: error: (-215) size.width>0 && size.height>0 in function imshow\n"
     ]
    }
   ],
   "source": [
    "# video capture 0 for internal device\n",
    "video_capture = cv2.VideoCapture(0)\n",
    "\n",
    "while True:\n",
    "    \n",
    "    _, frame = video_capture.read()\n",
    "    \n",
    "    # frame is color image captured\n",
    "    # converting this image to grayscale\n",
    "    \n",
    "    # gray_scale_img = cv2.cvtColor(frame, cv2.COLOR_BGR2GRAY)\n",
    "    im_gray = cv2.imread(frame, cv2.IMREAD_GRAYSCALE)\n",
    "    \n",
    "    canvas = detect(im_gray,frame)\n",
    "    \n",
    "    cv2.imshow('Video',canvas)\n",
    "    \n",
    "    if cv2.waitKey(1) & 0xFF == ord('q'):\n",
    "        break\n",
    "        \n",
    "video_capture.release()\n",
    "cv2.destroyAllWindows()"
   ]
  }
 ],
 "metadata": {
  "kernelspec": {
   "display_name": "Python 3",
   "language": "python",
   "name": "python3"
  },
  "language_info": {
   "codemirror_mode": {
    "name": "ipython",
    "version": 3
   },
   "file_extension": ".py",
   "mimetype": "text/x-python",
   "name": "python",
   "nbconvert_exporter": "python",
   "pygments_lexer": "ipython3",
   "version": "3.5.4"
  },
  "varInspector": {
   "cols": {
    "lenName": 16,
    "lenType": 16,
    "lenVar": 40
   },
   "kernels_config": {
    "python": {
     "delete_cmd_postfix": "",
     "delete_cmd_prefix": "del ",
     "library": "var_list.py",
     "varRefreshCmd": "print(var_dic_list())"
    },
    "r": {
     "delete_cmd_postfix": ") ",
     "delete_cmd_prefix": "rm(",
     "library": "var_list.r",
     "varRefreshCmd": "cat(var_dic_list()) "
    }
   },
   "types_to_exclude": [
    "module",
    "function",
    "builtin_function_or_method",
    "instance",
    "_Feature"
   ],
   "window_display": false
  }
 },
 "nbformat": 4,
 "nbformat_minor": 2
}
